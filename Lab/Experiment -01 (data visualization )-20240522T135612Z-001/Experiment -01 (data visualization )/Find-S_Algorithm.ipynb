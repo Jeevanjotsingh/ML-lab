{
 "cells": [
  {
   "cell_type": "markdown",
   "id": "54bb7e8c",
   "metadata": {},
   "source": [
    "# Implement Find-S Algorithm"
   ]
  },
  {
   "cell_type": "markdown",
   "id": "b107b518",
   "metadata": {},
   "source": [
    "## Load Libraries"
   ]
  },
  {
   "cell_type": "code",
   "execution_count": 22,
   "id": "1d91f701",
   "metadata": {},
   "outputs": [],
   "source": [
    "import pandas as pd"
   ]
  },
  {
   "cell_type": "markdown",
   "id": "91234b8b",
   "metadata": {},
   "source": [
    "## Load Dataset"
   ]
  },
  {
   "cell_type": "code",
   "execution_count": 23,
   "id": "d621d8ae",
   "metadata": {},
   "outputs": [],
   "source": [
    "df = pd.read_csv('lab1.csv')"
   ]
  },
  {
   "cell_type": "markdown",
   "id": "2969ecbe",
   "metadata": {},
   "source": [
    "## Explore Dataset"
   ]
  },
  {
   "cell_type": "code",
   "execution_count": 24,
   "id": "614e45d7",
   "metadata": {},
   "outputs": [
    {
     "data": {
      "text/html": [
       "<div>\n",
       "<style scoped>\n",
       "    .dataframe tbody tr th:only-of-type {\n",
       "        vertical-align: middle;\n",
       "    }\n",
       "\n",
       "    .dataframe tbody tr th {\n",
       "        vertical-align: top;\n",
       "    }\n",
       "\n",
       "    .dataframe thead th {\n",
       "        text-align: right;\n",
       "    }\n",
       "</style>\n",
       "<table border=\"1\" class=\"dataframe\">\n",
       "  <thead>\n",
       "    <tr style=\"text-align: right;\">\n",
       "      <th></th>\n",
       "      <th>sky</th>\n",
       "      <th>air temp</th>\n",
       "      <th>humdity</th>\n",
       "      <th>wind</th>\n",
       "      <th>water</th>\n",
       "      <th>forecast</th>\n",
       "      <th>enjoy sports</th>\n",
       "    </tr>\n",
       "  </thead>\n",
       "  <tbody>\n",
       "    <tr>\n",
       "      <th>0</th>\n",
       "      <td>sunny</td>\n",
       "      <td>warm</td>\n",
       "      <td>normal</td>\n",
       "      <td>strong</td>\n",
       "      <td>warm</td>\n",
       "      <td>same</td>\n",
       "      <td>yes</td>\n",
       "    </tr>\n",
       "    <tr>\n",
       "      <th>1</th>\n",
       "      <td>sunny</td>\n",
       "      <td>warm</td>\n",
       "      <td>high</td>\n",
       "      <td>strong</td>\n",
       "      <td>warm</td>\n",
       "      <td>same</td>\n",
       "      <td>yes</td>\n",
       "    </tr>\n",
       "    <tr>\n",
       "      <th>2</th>\n",
       "      <td>rainy</td>\n",
       "      <td>cold</td>\n",
       "      <td>high</td>\n",
       "      <td>strong</td>\n",
       "      <td>warm</td>\n",
       "      <td>change</td>\n",
       "      <td>no</td>\n",
       "    </tr>\n",
       "    <tr>\n",
       "      <th>3</th>\n",
       "      <td>sunny</td>\n",
       "      <td>warm</td>\n",
       "      <td>high</td>\n",
       "      <td>strong</td>\n",
       "      <td>cool</td>\n",
       "      <td>change</td>\n",
       "      <td>yes</td>\n",
       "    </tr>\n",
       "  </tbody>\n",
       "</table>\n",
       "</div>"
      ],
      "text/plain": [
       "     sky air temp humdity    wind water forecast enjoy sports\n",
       "0  sunny     warm  normal  strong  warm     same          yes\n",
       "1  sunny     warm    high  strong  warm     same          yes\n",
       "2  rainy     cold    high  strong  warm   change           no\n",
       "3  sunny     warm    high  strong  cool   change          yes"
      ]
     },
     "execution_count": 24,
     "metadata": {},
     "output_type": "execute_result"
    }
   ],
   "source": [
    "df.head()"
   ]
  },
  {
   "cell_type": "code",
   "execution_count": 25,
   "id": "24f3db31",
   "metadata": {},
   "outputs": [
    {
     "data": {
      "text/plain": [
       "(4, 7)"
      ]
     },
     "execution_count": 25,
     "metadata": {},
     "output_type": "execute_result"
    }
   ],
   "source": [
    "df.shape"
   ]
  },
  {
   "cell_type": "code",
   "execution_count": 26,
   "id": "f08c9051",
   "metadata": {},
   "outputs": [
    {
     "name": "stdout",
     "output_type": "stream",
     "text": [
      "<class 'pandas.core.frame.DataFrame'>\n",
      "RangeIndex: 4 entries, 0 to 3\n",
      "Data columns (total 7 columns):\n",
      " #   Column        Non-Null Count  Dtype \n",
      "---  ------        --------------  ----- \n",
      " 0   sky           4 non-null      object\n",
      " 1   air temp      4 non-null      object\n",
      " 2   humdity       4 non-null      object\n",
      " 3   wind          4 non-null      object\n",
      " 4   water         4 non-null      object\n",
      " 5   forecast      4 non-null      object\n",
      " 6   enjoy sports  4 non-null      object\n",
      "dtypes: object(7)\n",
      "memory usage: 356.0+ bytes\n"
     ]
    }
   ],
   "source": [
    "df.info()"
   ]
  },
  {
   "cell_type": "markdown",
   "id": "23767a83",
   "metadata": {},
   "source": [
    "## Split Dataset Into Attributes And Target"
   ]
  },
  {
   "cell_type": "code",
   "execution_count": 27,
   "id": "42599ac8",
   "metadata": {},
   "outputs": [
    {
     "name": "stdout",
     "output_type": "stream",
     "text": [
      "['yes' 'yes' 'no' 'yes']\n"
     ]
    }
   ],
   "source": [
    "result=df['enjoy sports'].values\n",
    "print(result)"
   ]
  },
  {
   "cell_type": "code",
   "execution_count": 28,
   "id": "0d196435",
   "metadata": {},
   "outputs": [
    {
     "name": "stdout",
     "output_type": "stream",
     "text": [
      "[['sunny' 'warm' 'normal' 'strong' 'warm' 'same']\n",
      " ['sunny' 'warm' 'high' 'strong' 'warm' 'same']\n",
      " ['rainy' 'cold' 'high' 'strong' 'warm' 'change']\n",
      " ['sunny' 'warm' 'high' 'strong' 'cool' 'change']]\n"
     ]
    }
   ],
   "source": [
    "attributes=df.drop('enjoy sports',axis=1).values\n",
    "print(attributes)"
   ]
  },
  {
   "cell_type": "markdown",
   "id": "e72a39a6",
   "metadata": {},
   "source": [
    "## Initialization Of Specific Hypothesis"
   ]
  },
  {
   "cell_type": "code",
   "execution_count": 29,
   "id": "81c26992",
   "metadata": {},
   "outputs": [],
   "source": [
    "H=['0']*attributes.shape[1]"
   ]
  },
  {
   "cell_type": "code",
   "execution_count": 30,
   "id": "d78c631e",
   "metadata": {},
   "outputs": [
    {
     "name": "stdout",
     "output_type": "stream",
     "text": [
      "Initial Hypothesis is : ['0', '0', '0', '0', '0', '0']\n"
     ]
    }
   ],
   "source": [
    "print(f'Initial Hypothesis is : {H}')"
   ]
  },
  {
   "cell_type": "markdown",
   "id": "21e63ae6",
   "metadata": {},
   "source": [
    "## Implement The Logic Of Find-S Algorithm"
   ]
  },
  {
   "cell_type": "code",
   "execution_count": 31,
   "id": "0e4bf926",
   "metadata": {},
   "outputs": [
    {
     "name": "stdout",
     "output_type": "stream",
     "text": [
      "For Step-0 : ['sunny', 'warm', 'normal', 'strong', 'warm', 'same']\n",
      "For Step-1 : ['sunny', 'warm', '?', 'strong', 'warm', 'same']\n",
      "For Step-2 : ['sunny', 'warm', '?', 'strong', 'warm', 'same']\n",
      "For Step-3 : ['sunny', 'warm', '?', 'strong', '?', '?']\n"
     ]
    }
   ],
   "source": [
    "for i in range(attributes.shape[0]):\n",
    "    if result[i]=='yes':\n",
    "        for j in range(attributes.shape[1]):\n",
    "            if H[j]=='0':\n",
    "                H[j]=attributes[i][j]\n",
    "            elif H[j]!=attributes[i][j]:\n",
    "                H[j]='?'\n",
    "    print(f'For Step-{i} : {H}')\n",
    "\n",
    "    \n",
    "    "
   ]
  },
  {
   "cell_type": "markdown",
   "id": "2c95da27",
   "metadata": {},
   "source": [
    "## Final General Hypothesis"
   ]
  },
  {
   "cell_type": "code",
   "execution_count": 32,
   "id": "b4a8dde5",
   "metadata": {},
   "outputs": [
    {
     "name": "stdout",
     "output_type": "stream",
     "text": [
      "Final Hypothesis is : ['sunny', 'warm', '?', 'strong', '?', '?']\n"
     ]
    }
   ],
   "source": [
    "print(f'Final Hypothesis is : {H}')"
   ]
  },
  {
   "cell_type": "code",
   "execution_count": null,
   "id": "f3a81dd4",
   "metadata": {},
   "outputs": [],
   "source": []
  }
 ],
 "metadata": {
  "kernelspec": {
   "display_name": "Python 3 (ipykernel)",
   "language": "python",
   "name": "python3"
  },
  "language_info": {
   "codemirror_mode": {
    "name": "ipython",
    "version": 3
   },
   "file_extension": ".py",
   "mimetype": "text/x-python",
   "name": "python",
   "nbconvert_exporter": "python",
   "pygments_lexer": "ipython3",
   "version": "3.12.3"
  }
 },
 "nbformat": 4,
 "nbformat_minor": 5
}
